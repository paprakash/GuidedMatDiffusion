{
 "cells": [
  {
   "cell_type": "markdown",
   "metadata": {},
   "source": [
    "# Crystal Structure Prototype Analysis\n",
    "\n",
    "Analysis of AI-generated superconductor candidates for structural novelty using the AFLOW Prototype Encyclopedia."
   ]
  },
  {
   "cell_type": "markdown",
   "metadata": {},
   "source": [
    "## Setup"
   ]
  },
  {
   "cell_type": "code",
   "execution_count": 1,
   "metadata": {},
   "outputs": [],
   "source": [
    "import pandas as pd\n",
    "import pickle\n",
    "import numpy as np\n",
    "from pathlib import Path\n",
    "import warnings\n",
    "import subprocess\n",
    "import tempfile\n",
    "import os\n",
    "import shutil\n",
    "\n",
    "from ase.io import write\n",
    "from pymatgen.io.ase import AseAtomsAdaptor\n",
    "from pymatgen.symmetry.analyzer import SpacegroupAnalyzer\n",
    "from pymatgen.analysis.structure_matcher import StructureMatcher\n",
    "from pymatgen.core import Structure\n",
    "import itertools"
   ]
  },
  {
   "cell_type": "code",
   "execution_count": 2,
   "metadata": {},
   "outputs": [
    {
     "name": "stdout",
     "output_type": "stream",
     "text": [
      "AFLOW VERSION 4.0.5 Automatic-FLOW [(C) 2003-2025 aflow.org consortium]\n"
     ]
    }
   ],
   "source": [
    "# Check AFLOW availability\n",
    "result = subprocess.run(['aflow', '--version'], capture_output=True, text=True)\n",
    "if result.returncode == 0:\n",
    "    for line in result.stdout.split('\\n'):\n",
    "        if 'VERSION' in line:\n",
    "            print(line.strip())\n",
    "            break"
   ]
  },
  {
   "cell_type": "markdown",
   "metadata": {},
   "source": [
    "## Data Loading and Filtering"
   ]
  },
  {
   "cell_type": "code",
   "execution_count": 3,
   "metadata": {},
   "outputs": [
    {
     "name": "stdout",
     "output_type": "stream",
     "text": [
      "Loaded 773 structures\n",
      "Columns: ['formula', 'tcad_final', 'mp_eah', 'sgn', 'lamb_final', 'E_form', 'is_metal', 'structure']\n"
     ]
    }
   ],
   "source": [
    "# Load dataset\n",
    "with warnings.catch_warnings():\n",
    "    warnings.simplefilter(\"ignore\", DeprecationWarning)\n",
    "    with open('../data/genai_allSC_final_may2025.pkl', 'rb') as f:\n",
    "        df = pickle.load(f)\n",
    "\n",
    "print(f\"Loaded {len(df)} structures\")\n",
    "print(f\"Columns: {list(df.columns)}\")"
   ]
  },
  {
   "cell_type": "code",
   "execution_count": 4,
   "metadata": {},
   "outputs": [
    {
     "name": "stdout",
     "output_type": "stream",
     "text": [
      "Stable structures (mp_eah ≤ 0): 29/773\n",
      "\n",
      "Stable structures:\n",
      "   1. Mo2NbTc3 (mp_eah = -0.0085)\n",
      "   2. Mo2NbTc3 (mp_eah = -0.0119)\n",
      "   3. Mo6OsRu (mp_eah = -0.0294)\n",
      "   4. HfScTc4 (mp_eah = -0.0327)\n",
      "   5. HfScTc4 (mp_eah = -0.0327)\n",
      "   6. Mo3Tc (mp_eah = -0.0116)\n",
      "   7. Nb6Pt2 (mp_eah = -0.0111)\n",
      "   8. AuNb6Pt (mp_eah = -0.0007)\n",
      "   9. Mo5NbOs2 (mp_eah = -0.0376)\n",
      "  10. IrMo6Tc (mp_eah = -0.0113)\n",
      "  11. Mo3Tc (mp_eah = -0.0181)\n",
      "  12. Mo4Nb2Os2 (mp_eah = -0.0099)\n",
      "  13. H3Mo2Pd2 (mp_eah = -0.0054)\n",
      "  14. Mo6ReRu (mp_eah = -0.0188)\n",
      "  15. Mo3NbTc2 (mp_eah = -0.0067)\n",
      "  16. AlIrNb6 (mp_eah = -0.0068)\n",
      "  17. IrMo2Os (mp_eah = -0.0189)\n",
      "  18. Be4Nb6 (mp_eah = -0.0055)\n",
      "  19. Mo5ReSiTc (mp_eah = -0.0018)\n",
      "  20. Ir2Mo3Os (mp_eah = -0.0275)\n",
      "  21. IrNb6Pt (mp_eah = -0.0098)\n",
      "  22. Mo2NbTi2 (mp_eah = -0.0011)\n",
      "  23. Mo2TcW (mp_eah = -0.0077)\n",
      "  24. MoNbTa2 (mp_eah = -0.0122)\n",
      "  25. AsMo6Os (mp_eah = -0.0071)\n",
      "  26. AsMo6Pt (mp_eah = -0.0219)\n",
      "  27. MoNb2Ta (mp_eah = -0.0024)\n",
      "  28. Mo4NbTc (mp_eah = -0.0175)\n",
      "  29. IrNb6Tc (mp_eah = -0.0191)\n"
     ]
    }
   ],
   "source": [
    "# Filter for thermodynamically stable structures\n",
    "df_stable = df[df['mp_eah'] <= 0.0].copy()\n",
    "print(f\"Stable structures (mp_eah ≤ 0): {len(df_stable)}/{len(df)}\")\n",
    "\n",
    "print(\"\\nStable structures:\")\n",
    "for i, (idx, row) in enumerate(df_stable.iterrows()):\n",
    "    print(f\"  {i+1:2d}. {row['formula']} (mp_eah = {row['mp_eah']:.4f})\")"
   ]
  },
  {
   "cell_type": "markdown",
   "metadata": {},
   "source": [
    "## Structure Standardization"
   ]
  },
  {
   "cell_type": "code",
   "execution_count": 5,
   "metadata": {},
   "outputs": [
    {
     "name": "stdout",
     "output_type": "stream",
     "text": [
      "Standardized 29 structures\n",
      "Space group distribution: {200: 9, 216: 2, 71: 2, 25: 2, 65: 1, 164: 1, 223: 1, 115: 1, 40: 1, 123: 1, 166: 1, 8: 1, 127: 1, 10: 1, 12: 1, 225: 1, 47: 1, 99: 1}\n"
     ]
    }
   ],
   "source": [
    "# Standardize crystal structures to conventional cells\n",
    "adaptor = AseAtomsAdaptor()\n",
    "standardized_data = []\n",
    "\n",
    "for idx, row in df_stable.iterrows():\n",
    "    atoms = row['structure']\n",
    "    pmg_struct = adaptor.get_structure(atoms)\n",
    "    analyzer = SpacegroupAnalyzer(pmg_struct)\n",
    "    standardized_struct = analyzer.get_conventional_standard_structure()\n",
    "    standardized_atoms = adaptor.get_atoms(standardized_struct)\n",
    "    \n",
    "    standardized_data.append({\n",
    "        'original_index': idx,\n",
    "        'formula': row['formula'],\n",
    "        'mp_eah': row['mp_eah'],\n",
    "        'E_form': row['E_form'],\n",
    "        'standardized_atoms': standardized_atoms,\n",
    "        'space_group': analyzer.get_space_group_number()\n",
    "    })\n",
    "\n",
    "standardized_df = pd.DataFrame(standardized_data)\n",
    "print(f\"Standardized {len(standardized_df)} structures\")\n",
    "print(f\"Space group distribution: {standardized_df['space_group'].value_counts().to_dict()}\")"
   ]
  },
  {
   "cell_type": "markdown",
   "metadata": {},
   "source": [
    "## Deduplication"
   ]
  },
  {
   "cell_type": "code",
   "execution_count": 6,
   "metadata": {},
   "outputs": [
    {
     "name": "stdout",
     "output_type": "stream",
     "text": [
      "Unique formulas: 26/29\n",
      "Duplicate formulas: 3\n",
      "  Mo2NbTc3: 2 structures\n",
      "    Index 20657: mp_eah = -0.0085\n",
      "    Index 13944: mp_eah = -0.0119\n",
      "  HfScTc4: 2 structures\n",
      "    Index 13223: mp_eah = -0.0327\n",
      "    Index 16950: mp_eah = -0.0327\n",
      "  Mo3Tc: 2 structures\n",
      "    Index 1449: mp_eah = -0.0116\n",
      "    Index 59903: mp_eah = -0.0181\n"
     ]
    }
   ],
   "source": [
    "# Check for duplicate formulas\n",
    "formula_counts = standardized_df['formula'].value_counts()\n",
    "duplicates = formula_counts[formula_counts > 1]\n",
    "\n",
    "print(f\"Unique formulas: {len(formula_counts)}/{len(standardized_df)}\")\n",
    "if len(duplicates) > 0:\n",
    "    print(f\"Duplicate formulas: {len(duplicates)}\")\n",
    "    for formula, count in duplicates.items():\n",
    "        structures = standardized_df[standardized_df['formula'] == formula]\n",
    "        print(f\"  {formula}: {count} structures\")\n",
    "        for _, row in structures.iterrows():\n",
    "            print(f\"    Index {row['original_index']}: mp_eah = {row['mp_eah']:.4f}\")"
   ]
  },
  {
   "cell_type": "code",
   "execution_count": 7,
   "metadata": {},
   "outputs": [
    {
     "name": "stdout",
     "output_type": "stream",
     "text": [
      "After deduplication: 26 structures\n",
      "   1. Mo2NbTc3 (Index 13944, mp_eah = -0.0119)\n",
      "   2. Mo6OsRu (Index 88841, mp_eah = -0.0294)\n",
      "   3. HfScTc4 (Index 16950, mp_eah = -0.0327)\n",
      "   4. Mo3Tc (Index 59903, mp_eah = -0.0181)\n",
      "   5. Nb6Pt2 (Index 1695, mp_eah = -0.0111)\n",
      "   6. AuNb6Pt (Index 51254, mp_eah = -0.0007)\n",
      "   7. Mo5NbOs2 (Index 64238, mp_eah = -0.0376)\n",
      "   8. IrMo6Tc (Index 33668, mp_eah = -0.0113)\n",
      "   9. Mo4Nb2Os2 (Index 56825, mp_eah = -0.0099)\n",
      "  10. H3Mo2Pd2 (Index 96733, mp_eah = -0.0054)\n",
      "  11. Mo6ReRu (Index 34530, mp_eah = -0.0188)\n",
      "  12. Mo3NbTc2 (Index 175399, mp_eah = -0.0067)\n",
      "  13. AlIrNb6 (Index 29530, mp_eah = -0.0068)\n",
      "  14. IrMo2Os (Index 1428, mp_eah = -0.0189)\n",
      "  15. Be4Nb6 (Index 394, mp_eah = -0.0055)\n",
      "  16. Mo5ReSiTc (Index 57708, mp_eah = -0.0018)\n",
      "  17. Ir2Mo3Os (Index 2112, mp_eah = -0.0275)\n",
      "  18. IrNb6Pt (Index 1452, mp_eah = -0.0098)\n",
      "  19. Mo2NbTi2 (Index 82458, mp_eah = -0.0011)\n",
      "  20. Mo2TcW (Index 102684, mp_eah = -0.0077)\n",
      "  21. MoNbTa2 (Index 1782, mp_eah = -0.0122)\n",
      "  22. AsMo6Os (Index 54581, mp_eah = -0.0071)\n",
      "  23. AsMo6Pt (Index 45148, mp_eah = -0.0219)\n",
      "  24. MoNb2Ta (Index 1222, mp_eah = -0.0024)\n",
      "  25. Mo4NbTc (Index 162167, mp_eah = -0.0175)\n",
      "  26. IrNb6Tc (Index 25870, mp_eah = -0.0191)\n"
     ]
    }
   ],
   "source": [
    "# Keep most stable structure for each formula\n",
    "deduplicated_data = []\n",
    "\n",
    "for formula in standardized_df['formula'].unique():\n",
    "    formula_group = standardized_df[standardized_df['formula'] == formula]\n",
    "    most_stable = formula_group.loc[formula_group['mp_eah'].idxmin()]\n",
    "    deduplicated_data.append(most_stable)\n",
    "\n",
    "deduplicated_df = pd.DataFrame(deduplicated_data).reset_index(drop=True)\n",
    "print(f\"After deduplication: {len(deduplicated_df)} structures\")\n",
    "\n",
    "for i, row in deduplicated_df.iterrows():\n",
    "    print(f\"  {i+1:2d}. {row['formula']} (Index {row['original_index']}, mp_eah = {row['mp_eah']:.4f})\")"
   ]
  },
  {
   "cell_type": "markdown",
   "metadata": {},
   "source": [
    "## Encyclopedia Comparison"
   ]
  },
  {
   "cell_type": "code",
   "execution_count": 8,
   "metadata": {},
   "outputs": [],
   "source": [
    "def parse_encyclopedia_output(output):\n",
    "    \"\"\"Parse AFLOW --compare2prototypes output\"\"\"\n",
    "    if \"No compatible prototypes found\" in output:\n",
    "        return {\"status\": \"novel\", \"matches\": [], \"best_misfit\": None}\n",
    "    \n",
    "    matches = []\n",
    "    lines = output.split('\\n')\n",
    "    in_duplicates = False\n",
    "    \n",
    "    for line in lines:\n",
    "        if \"List of duplicates\" in line or \"list of duplicates\" in line:\n",
    "            in_duplicates = True\n",
    "            continue\n",
    "        if \"-----\" in line:\n",
    "            continue\n",
    "        if in_duplicates and line.strip() and not line.startswith('-'):\n",
    "            parts = line.split()\n",
    "            if len(parts) >= 2:\n",
    "                prototype = parts[0]\n",
    "                try:\n",
    "                    misfit = float(parts[-1])\n",
    "                    matches.append({\"prototype\": prototype, \"misfit\": misfit})\n",
    "                except ValueError:\n",
    "                    pass\n",
    "        if in_duplicates and line.startswith('='):\n",
    "            break\n",
    "    \n",
    "    if matches:\n",
    "        best_misfit = min(m[\"misfit\"] for m in matches)\n",
    "        status = \"known\" if best_misfit <= 0.10 else \"family\" if best_misfit <= 0.20 else \"novel\"\n",
    "        return {\"status\": status, \"matches\": matches, \"best_misfit\": best_misfit}\n",
    "    \n",
    "    return {\"status\": \"novel\", \"matches\": [], \"best_misfit\": None}\n",
    "\n",
    "def parse_isopointal_output(output):\n",
    "    \"\"\"Parse AFLOW --get_isopointal_prototypes output\"\"\"\n",
    "    if \"no isopointal prototypes\" in output.lower():\n",
    "        return {\"isopointal_codes\": [], \"isopointal_count\": 0}\n",
    "    \n",
    "    codes = []\n",
    "    for line in output.split('\\n'):\n",
    "        line = line.strip()\n",
    "        if line and not line.startswith('0000') and not line.startswith('MESSAGE'):\n",
    "            if ',' in line:\n",
    "                parts = [code.strip() for code in line.split(',') if code.strip()]\n",
    "                codes.extend(parts)\n",
    "            else:\n",
    "                codes.append(line)\n",
    "    \n",
    "    return {\"isopointal_codes\": codes, \"isopointal_count\": len(codes)}"
   ]
  },
  {
   "cell_type": "code",
   "execution_count": 9,
   "metadata": {},
   "outputs": [
    {
     "name": "stdout",
     "output_type": "stream",
     "text": [
      " 1. Mo2NbTc3 -> KNOWN: AB2C3_oC12_65_a_i_cj-001 (misfit: 0.018)\n",
      " 2. Mo6OsRu -> NOVEL\n",
      " 3. HfScTc4 -> KNOWN: AB4C_cF24_216_a_e_c-001 (misfit: 0.000)\n",
      " 4. Mo3Tc -> KNOWN: A3B_oI8_71_af_b-001 (misfit: 0.009)\n",
      " 5. Nb6Pt2 -> KNOWN: A3B_cP8_223_c_a-002 (misfit: 0.000)\n",
      " 6. AuNb6Pt -> NOVEL\n",
      " 7. Mo5NbOs2 -> NOVEL\n",
      " 8. IrMo6Tc -> NOVEL\n",
      " 9. Mo4Nb2Os2 -> NOVEL\n",
      "10. H3Mo2Pd2 -> NOVEL ARRANGEMENT (isopointal: L_1Z5Z, L_CXMZ)\n",
      "11. Mo6ReRu -> NOVEL\n",
      "12. Mo3NbTc2 -> NOVEL ARRANGEMENT (isopointal: L_DNMB)\n",
      "13. AlIrNb6 -> NOVEL\n",
      "14. IrMo2Os -> NOVEL\n",
      "15. Be4Nb6 -> KNOWN: A2B3_tP10_127_g_ah-001 (misfit: 0.028)\n",
      "16. Mo5ReSiTc -> NOVEL\n",
      "17. Ir2Mo3Os -> NOVEL\n",
      "18. IrNb6Pt -> NOVEL\n",
      "19. Mo2NbTi2 -> NOVEL ARRANGEMENT (isopointal: L_66R4, L_6WMF, L_7J12, L_B1C0, L_K5GV, L_ZD5H)\n",
      "20. Mo2TcW -> NOVEL ARRANGEMENT (isopointal: L_Y65D, L_YVVW)\n",
      "21. MoNbTa2 -> KNOWN: AB2C_cF16_225_a_c_b-001 (misfit: 0.000)\n",
      "22. AsMo6Os -> NOVEL\n",
      "23. AsMo6Pt -> NOVEL\n",
      "24. MoNb2Ta -> NOVEL ARRANGEMENT (isopointal: L_8FMW)\n",
      "25. Mo4NbTc -> NOVEL\n",
      "26. IrNb6Tc -> NOVEL\n",
      "\n",
      "Novelty classification: {'novel': 15, 'known_prototype': 6, 'novel_arrangement': 5}\n",
      "Novel structures for clustering: 15\n"
     ]
    }
   ],
   "source": [
    "# Check each structure against AFLOW encyclopedia\n",
    "novelty_results = []\n",
    "novel_structures = []\n",
    "\n",
    "for i, row in deduplicated_df.iterrows():\n",
    "    # Write temporary CIF\n",
    "    with tempfile.NamedTemporaryFile(mode='w', suffix='.cif', delete=False) as f:\n",
    "        temp_cif = f.name\n",
    "    write(temp_cif, row['standardized_atoms'], format='cif')\n",
    "    \n",
    "    # Encyclopedia comparison\n",
    "    cmd = ['aflow', '--compare2prototypes', '--np=1']\n",
    "    with open(temp_cif, 'r') as f:\n",
    "        result = subprocess.run(cmd, stdin=f, capture_output=True, text=True, timeout=180)\n",
    "    encyclopedia_data = parse_encyclopedia_output(result.stdout)\n",
    "    \n",
    "    # Isopointal analysis for novel structures\n",
    "    isopointal_data = {\"isopointal_codes\": [], \"isopointal_count\": 0}\n",
    "    if encyclopedia_data['status'] == 'novel':\n",
    "        cmd_iso = ['aflow', '--get_isopointal_prototypes']\n",
    "        with open(temp_cif, 'r') as f:\n",
    "            iso_result = subprocess.run(cmd_iso, stdin=f, capture_output=True, text=True, timeout=60)\n",
    "        if iso_result.returncode == 0:\n",
    "            isopointal_data = parse_isopointal_output(iso_result.stdout)\n",
    "    \n",
    "    os.remove(temp_cif)\n",
    "    \n",
    "    # Classify novelty\n",
    "    if encyclopedia_data['status'] == 'known':\n",
    "        novelty_type = 'known_prototype'\n",
    "    elif encyclopedia_data['status'] == 'family':\n",
    "        novelty_type = 'same_family'\n",
    "    else:\n",
    "        if isopointal_data['isopointal_count'] > 0:\n",
    "            novelty_type = 'novel_arrangement'\n",
    "        else:\n",
    "            novelty_type = 'novel'\n",
    "    \n",
    "    result_data = {\n",
    "        'original_index': row['original_index'],\n",
    "        'formula': row['formula'],\n",
    "        'mp_eah': row['mp_eah'],\n",
    "        'space_group': row['space_group'],\n",
    "        'novelty_type': novelty_type,\n",
    "        'best_misfit': encyclopedia_data['best_misfit'],\n",
    "        'isopointal_codes': isopointal_data['isopointal_codes']\n",
    "    }\n",
    "    novelty_results.append(result_data)\n",
    "    \n",
    "    # Print result\n",
    "    print(f\"{i+1:2d}. {row['formula']}\", end=\" -> \")\n",
    "    if novelty_type == \"novel\":\n",
    "        novel_structures.append(row)\n",
    "        print(\"NOVEL\")\n",
    "    elif novelty_type == \"novel_arrangement\":\n",
    "        iso_str = ', '.join(isopointal_data['isopointal_codes'])\n",
    "        print(f\"NOVEL ARRANGEMENT (isopointal: {iso_str})\")\n",
    "    elif novelty_type == \"known_prototype\":\n",
    "        best_match = encyclopedia_data['matches'][0]['prototype']\n",
    "        misfit = encyclopedia_data['best_misfit']\n",
    "        print(f\"KNOWN: {best_match} (misfit: {misfit:.3f})\")\n",
    "    else:\n",
    "        best_match = encyclopedia_data['matches'][0]['prototype']\n",
    "        misfit = encyclopedia_data['best_misfit']\n",
    "        print(f\"FAMILY: {best_match} (misfit: {misfit:.3f})\")\n",
    "\n",
    "novelty_df = pd.DataFrame(novelty_results)\n",
    "print(f\"\\nNovelty classification: {novelty_df['novelty_type'].value_counts().to_dict()}\")\n",
    "print(f\"Novel structures for clustering: {len(novel_structures)}\")"
   ]
  },
  {
   "cell_type": "markdown",
   "metadata": {},
   "source": [
    "## Structure Clustering"
   ]
  },
  {
   "cell_type": "code",
   "execution_count": 10,
   "metadata": {},
   "outputs": [
    {
     "name": "stdout",
     "output_type": "stream",
     "text": [
      "Written 15 CIF files\n"
     ]
    }
   ],
   "source": [
    "# Write novel structures to CIF files for AFLOW clustering\n",
    "batch_dir = Path(\"novel_structures_batch\")\n",
    "if batch_dir.exists():\n",
    "    shutil.rmtree(batch_dir)\n",
    "batch_dir.mkdir()\n",
    "\n",
    "structure_mapping = {}\n",
    "for i, row in enumerate(novel_structures):\n",
    "    safe_formula = row['formula'].replace('/', '_')\n",
    "    filename = f\"struct_{row['original_index']}_{safe_formula}.cif\"\n",
    "    filepath = batch_dir / filename\n",
    "    \n",
    "    write(str(filepath), row['standardized_atoms'], format='cif')\n",
    "    \n",
    "    structure_name = f\"struct_{row['original_index']}_{safe_formula}\"\n",
    "    structure_mapping[structure_name] = {\n",
    "        'original_index': row['original_index'],\n",
    "        'formula': row['formula'],\n",
    "        'mp_eah': row['mp_eah'],\n",
    "        'space_group': row['space_group']\n",
    "    }\n",
    "\n",
    "print(f\"Written {len(novel_structures)} CIF files\")"
   ]
  },
  {
   "cell_type": "code",
   "execution_count": 11,
   "metadata": {},
   "outputs": [
    {
     "name": "stdout",
     "output_type": "stream",
     "text": [
      "AFLOW clustering output:\n",
      "----------------------------------------\n",
      "00000  MESSAGE XtalFinderCalculator::getOptions(): Misfit threshold for matched structures: 0.1 (default: 0.1) - [dir=novel_structures_batch] - [user=jhamlin] - [host=physicsphamlint450] - [PID=67965] - [date=Wed Oct  8 13:36:15 2025] - [/home/runner/_work/AFLOW4/AFLOW4/src/modules/COMPARE/aflow_compare_structure_function.cpp:283]\n",
      "00000  MESSAGE XtalFinderCalculator::getOptions(): Misfit threshold for structures in the same family: 0.2 (default: 0.2) - [dir=novel_structures_batch] - [user=jhamlin] - [host=physicsphamlint450] - [PID=67965] - [date=Wed Oct  8 13:36:15 2025] - [/home/runner/_work/AFLOW4/AFLOW4/src/modules/COMPARE/aflow_compare_structure_function.cpp:285]\n",
      "00000  MESSAGE compare::compareInputStructures(): Comparison directory: novel_structures_batch - [dir=novel_structures_batch] - [user=jhamlin] - [host=physicsphamlint450] - [PID=67965] - [date=Wed Oct  8 13:36:15 2025] - [/home/runner/_work/AFLOW4/AFLOW4/src/modules/COMPARE/aflow_compare_structure.cpp:353]\n",
      "00000  MESSAGE compare::compareInputStructures(): OPTIONS: Performing structure type comparisons (any atomic species). - [dir=novel_structures_batch] - [user=jhamlin] - [host=physicsphamlint450] - [PID=67965] - [date=Wed Oct  8 13:36:15 2025] - [/home/runner/_work/AFLOW4/AFLOW4/src/modules/COMPARE/aflow_compare_structure.cpp:393]\n",
      "00000  MESSAGE XtalFinderCalculator::loadStructuresFromDirectory(): Loading 15 files in directory ... - [dir=novel_structures_batch] - [user=jhamlin] - [host=physicsphamlint450] - [PID=67965] - [date=Wed Oct  8 13:36:15 2025] - [/home/runner/_work/AFLOW4/AFLOW4/src/modules/COMPARE/aflow_compare_structure_function.cpp:1563]\n",
      "00000  MESSAGE XtalFinderCalculator::compareMultipleStructures(): Total number of structures to compare: 15 - [dir=novel_structures_batch] - [user=jhamlin] - [host=physicsphamlint450] - [PID=67965] - [date=Wed Oct  8 13:36:15 2025] - [/home/runner/_work/AFLOW4/AFLOW4/src/modules/COMPARE/aflow_compare_structure_function.cpp:135]\n",
      "00000  MESSAGE XtalFinderCalculator::calculateSymmetries(): Calculating the symmetries of the structure(s). - [dir=novel_structures_batch] - [user=jhamlin] - [host=physicsphamlint450] - [PID=67965] - [date=Wed Oct  8 13:36:15 2025] - [/home/runner/_work/AFLOW4/AFLOW4/src/modules/COMPARE/aflow_compare_structure_function.cpp:2939]\n",
      "\u001b[32mCCCCC\u001b[0m\u001b[32m\u001b[5m\u001b[1m  COMPLETE \u001b[0m\u001b[32mXtalFinderCalculator::calculateSymmetries(): Symmetries calculated. - [dir=novel_structures_batch] - [user=jhamlin] - [host=physicsphamlint450] - [PID=67965] - [date=Wed Oct  8 13:36:21 2025] - [/home/runner/_work/AFLOW4/AFLOW4/src/modules/COMPARE/aflow_compare_structure_function.cpp:2970]\n",
      "\u001b[0m00000  MESSAGE XtalFinderCalculator::calculateLFAEnvironments(): Calculating the environments of the structure(s). - [dir=novel_structures_batch] - [user=jhamlin] - [host=physicsphamlint450] - [PID=67965] - [date=Wed Oct  8 13:36:21 2025] - [/home/runner/_work/AFLOW4/AFLOW4/src/modules/COMPARE/aflow_compare_structure_function.cpp:3017]\n",
      "\u001b[32mCCCCC\u001b[0m\u001b[32m\u001b[5m\u001b[1m  COMPLETE \u001b[0m\u001b[32mXtalFinderCalculator::calculateLFAEnvironments(): Environments calculated. - [dir=novel_structures_batch] - [user=jhamlin] - [host=physicsphamlint450] - [PID=67965] - [date=Wed Oct  8 13:36:21 2025] - [/home/runner/_work/AFLOW4/AFLOW4/src/modules/COMPARE/aflow_compare_structure_function.cpp:3042]\n",
      "\u001b[0m00000  MESSAGE XtalFinderCalculator::getNearestNeighbors(): Calculating the nearest neighbors of all the structure(s). - [dir=novel_structures_batch] - [user=jhamlin] - [host=physicsphamlint450] - [PID=67965] - [date=Wed Oct  8 13:36:21 2025] - [/home/runner/_work/AFLOW4/AFLOW4/src/modules/COMPARE/aflow_compare_structure_function.cpp:3056]\n",
      "\u001b[32mCCCCC\u001b[0m\u001b[32m\u001b[5m\u001b[1m  COMPLETE \u001b[0m\u001b[32mXtalFinderCalculator::getNearestNeighbors(): Nearest neighbors information calculated. - [dir=novel_structures_batch] - [user=jhamlin] - [host=physicsphamlint450] - [PID=67965] - [date=Wed Oct  8 13:36:21 2025] - [/home/runner/_work/AFLOW4/AFLOW4/src/modules/COMPARE/aflow_compare_structure_function.cpp:3083]\n",
      "\u001b[0m00000  MESSAGE XtalFinderCalculator::groupStructurePrototypes(): Grouping sets of comparisons. - [dir=novel_structures_batch] - [user=jhamlin] - [host=physicsphamlint450] - [PID=67965] - [date=Wed Oct  8 13:36:21 2025] - [/home/runner/_work/AFLOW4/AFLOW4/src/modules/COMPARE/aflow_compare_structure_function.cpp:3632]\n",
      "00000  MESSAGE XtalFinderCalculator::groupStructurePrototypes(): Number of comparison groups: 7. - [dir=novel_structures_batch] - [user=jhamlin] - [host=physicsphamlint450] - [PID=67965] - [date=Wed Oct  8 13:36:21 2025] - [/home/runner/_work/AFLOW4/AFLOW4/src/modules/COMPARE/aflow_compare_structure_function.cpp:3685]\n",
      "00000  MESSAGE XtalFinderCalculator::runComparisonScheme(): Running comparisons ... - [dir=novel_structures_batch] - [user=jhamlin] - [host=physicsphamlint450] - [PID=67965] - [date=Wed Oct  8 13:36:21 2025] - [/home/runner/_work/AFLOW4/AFLOW4/src/modules/COMPARE/aflow_compare_structure_function.cpp:4093]\n",
      "00000  MESSAGE XtalFinderCalculator::checkForBetterMatches(): Check if initial structure groupings match better (lower similarity metric) with other groups. - [dir=novel_structures_batch] - [user=jhamlin] - [host=physicsphamlint450] - [PID=67965] - [date=Wed Oct  8 13:36:21 2025] - [/home/runner/_work/AFLOW4/AFLOW4/src/modules/COMPARE/aflow_compare_structure_function.cpp:3770]\n",
      "Identified unique prototype: \n",
      "   prototype=novel_structures_batch/struct_1428_IrMo2Os.cif\n",
      "   No duplicates. \n",
      "Identified unique prototype: \n",
      "   prototype=novel_structures_batch/struct_1452_IrNb6Pt.cif\n",
      "   List of duplicates                                                                                  misfit value   \n",
      "   -------------------------------------------------------------------------------------------------------------------\n",
      "   novel_structures_batch/struct_25870_IrNb6Tc.cif                                                     0.00385508     \n",
      "   novel_structures_batch/struct_29530_AlIrNb6.cif                                                     0.00792444     \n",
      "   novel_structures_batch/struct_33668_IrMo6Tc.cif                                                     0.00530349     \n",
      "   novel_structures_batch/struct_34530_Mo6ReRu.cif                                                     0.00293188     \n",
      "   novel_structures_batch/struct_45148_AsMo6Pt.cif                                                     0.00227995     \n",
      "   novel_structures_batch/struct_51254_AuNb6Pt.cif                                                     0.00794308     \n",
      "   novel_structures_batch/struct_54581_AsMo6Os.cif                                                     0.00200372     \n",
      "   novel_structures_batch/struct_88841_Mo6OsRu.cif                                                     0.00264045     \n",
      "Identified unique prototype: \n",
      "   prototype=novel_structures_batch/struct_162167_Mo4NbTc.cif\n",
      "   No duplicates. \n",
      "Identified unique prototype: \n",
      "   prototype=novel_structures_batch/struct_2112_Ir2Mo3Os.cif\n",
      "   No duplicates. \n",
      "Identified unique prototype: \n",
      "   prototype=novel_structures_batch/struct_56825_Mo4Nb2Os2.cif\n",
      "   No duplicates. \n",
      "Identified unique prototype: \n",
      "   prototype=novel_structures_batch/struct_57708_Mo5ReSiTc.cif\n",
      "   No duplicates. \n",
      "Identified unique prototype: \n",
      "   prototype=novel_structures_batch/struct_64238_Mo5NbOs2.cif\n",
      "   No duplicates. \n",
      "\u001b[32mCCCCC\u001b[0m\u001b[32m\u001b[5m\u001b[1m  COMPLETE \u001b[0m\u001b[32mXtalFinderCalculator::runComparisonScheme(): Comparisons complete! - [dir=novel_structures_batch] - [user=jhamlin] - [host=physicsphamlint450] - [PID=67965] - [date=Wed Oct  8 13:36:21 2025] - [/home/runner/_work/AFLOW4/AFLOW4/src/modules/COMPARE/aflow_compare_structure_function.cpp:4263]\n",
      "\u001b[0m\u001b[32mCCCCC\u001b[0m\u001b[32m\u001b[5m\u001b[1m  COMPLETE \u001b[0m\u001b[32mXtalFinderCalculator::compareMultipleStructures(): Number of unique prototypes: 7 (out of 15 structures). - [dir=novel_structures_batch] - [user=jhamlin] - [host=physicsphamlint450] - [PID=67965] - [date=Wed Oct  8 13:36:21 2025] - [/home/runner/_work/AFLOW4/AFLOW4/src/modules/COMPARE/aflow_compare_structure_function.cpp:222]\n",
      "\u001b[0m00000  MESSAGE XtalFinderCalculator::compareMultipleStructures(): Determining the unique atom decorations for each prototype. - [dir=novel_structures_batch] - [user=jhamlin] - [host=physicsphamlint450] - [PID=67965] - [date=Wed Oct  8 13:36:21 2025] - [/home/runner/_work/AFLOW4/AFLOW4/src/modules/COMPARE/aflow_compare_structure_function.cpp:228]\n",
      "\u001b[32mCCCCC\u001b[0m\u001b[32m\u001b[5m\u001b[1m  COMPLETE \u001b[0m\u001b[32mXtalFinderCalculator::writeComparisonOutputFile(): RESULTS: See novel_structures_batch/structure_comparison_output.json for list of unique/duplicate structures. - [dir=novel_structures_batch] - [user=jhamlin] - [host=physicsphamlint450] - [PID=67965] - [date=Wed Oct  8 13:36:22 2025] - [/home/runner/_work/AFLOW4/AFLOW4/src/modules/COMPARE/aflow_compare_structure_function.cpp:7373]\n",
      "\u001b[0m\u001b[32mCCCCC\u001b[0m\u001b[32m\u001b[5m\u001b[1m  COMPLETE \u001b[0m\u001b[32mXtalFinderCalculator::writeComparisonOutputFile(): RESULTS: See novel_structures_batch/structure_comparison_output.out for list of unique/duplicate structures. - [dir=novel_structures_batch] - [user=jhamlin] - [host=physicsphamlint450] - [PID=67965] - [date=Wed Oct  8 13:36:22 2025] - [/home/runner/_work/AFLOW4/AFLOW4/src/modules/COMPARE/aflow_compare_structure_function.cpp:7380]\n",
      "\u001b[0m\n",
      "----------------------------------------\n"
     ]
    }
   ],
   "source": [
    "# Run AFLOW clustering\n",
    "cmd = ['aflow', '--compare_structures', '-D', str(batch_dir), '--np=1']\n",
    "result = subprocess.run(cmd, capture_output=True, text=True, timeout=1800)\n",
    "\n",
    "print(\"AFLOW clustering output:\")\n",
    "print(\"-\" * 40)\n",
    "print(result.stdout)\n",
    "print(\"-\" * 40)"
   ]
  },
  {
   "cell_type": "code",
   "execution_count": 12,
   "metadata": {},
   "outputs": [
    {
     "name": "stdout",
     "output_type": "stream",
     "text": [
      "Structural families: 7\n",
      "Family sizes: [9, 1, 1, 1, 1, 1, 1]\n",
      "Family 1: 1 structures, representative: IrMo2Os (mp_eah = -0.0189)\n",
      "Family 2: 9 structures, representative: Mo6OsRu (mp_eah = -0.0294)\n",
      "Family 3: 1 structures, representative: Mo4NbTc (mp_eah = -0.0175)\n",
      "Family 4: 1 structures, representative: Ir2Mo3Os (mp_eah = -0.0275)\n",
      "Family 5: 1 structures, representative: Mo4Nb2Os2 (mp_eah = -0.0099)\n",
      "Family 6: 1 structures, representative: Mo5ReSiTc (mp_eah = -0.0018)\n",
      "Family 7: 1 structures, representative: Mo5NbOs2 (mp_eah = -0.0376)\n"
     ]
    }
   ],
   "source": [
    "def parse_aflow_directory_output(output):\n",
    "    \"\"\"Parse AFLOW --compare_structures -D output\"\"\"\n",
    "    results = []\n",
    "    lines = output.split('\\n')\n",
    "    current_prototype = None\n",
    "    in_duplicates_list = False\n",
    "    \n",
    "    for line in lines:\n",
    "        line = line.strip()\n",
    "        \n",
    "        if line.startswith('prototype='):\n",
    "            current_prototype = {\n",
    "                'representative': line.split('=', 1)[1].strip(),\n",
    "                'duplicates': []\n",
    "            }\n",
    "            in_duplicates_list = False\n",
    "            continue\n",
    "        \n",
    "        if 'List of duplicates' in line and current_prototype:\n",
    "            in_duplicates_list = True\n",
    "            continue\n",
    "        \n",
    "        if 'No duplicates' in line and current_prototype:\n",
    "            results.append(current_prototype)\n",
    "            current_prototype = None\n",
    "            continue\n",
    "        \n",
    "        if in_duplicates_list and current_prototype and line:\n",
    "            if line.startswith('---') or 'misfit value' in line:\n",
    "                continue\n",
    "            if '.cif' in line and any(char.isdigit() for char in line):\n",
    "                parts = line.split()\n",
    "                if len(parts) >= 2:\n",
    "                    structure_path = parts[0]\n",
    "                    try:\n",
    "                        misfit = float(parts[-1])\n",
    "                        current_prototype['duplicates'].append({\n",
    "                            'structure_path': structure_path,\n",
    "                            'misfit': misfit\n",
    "                        })\n",
    "                    except ValueError:\n",
    "                        pass\n",
    "        \n",
    "        if line.startswith('Identified unique prototype:') and current_prototype and in_duplicates_list:\n",
    "            results.append(current_prototype)\n",
    "            current_prototype = None\n",
    "            in_duplicates_list = False\n",
    "    \n",
    "    if current_prototype:\n",
    "        results.append(current_prototype)\n",
    "    \n",
    "    return results\n",
    "\n",
    "def convert_aflow_groups_to_clusters(parsed_groups, structure_mapping):\n",
    "    \"\"\"Convert AFLOW groups to cluster format\"\"\"\n",
    "    clusters = []\n",
    "    \n",
    "    for group_id, group in enumerate(parsed_groups):\n",
    "        rep_file = os.path.basename(group['representative'])\n",
    "        rep_name = rep_file.replace('.cif', '')\n",
    "        cluster_structures = [rep_name] if rep_name in structure_mapping else []\n",
    "        \n",
    "        for dup in group['duplicates']:\n",
    "            dup_file = os.path.basename(dup['structure_path'])\n",
    "            dup_name = dup_file.replace('.cif', '')\n",
    "            if dup_name in structure_mapping:\n",
    "                cluster_structures.append(dup_name)\n",
    "        \n",
    "        if cluster_structures:\n",
    "            cluster_info = {\n",
    "                'cluster_id': group_id,\n",
    "                'cluster_size': len(cluster_structures),\n",
    "                'structure_indices': [structure_mapping[name]['original_index'] for name in cluster_structures],\n",
    "                'formulas': [structure_mapping[name]['formula'] for name in cluster_structures],\n",
    "                'space_groups': [structure_mapping[name].get('space_group') for name in cluster_structures],\n",
    "                'mp_eah_values': [structure_mapping[name]['mp_eah'] for name in cluster_structures]\n",
    "            }\n",
    "            clusters.append(cluster_info)\n",
    "    \n",
    "    return clusters\n",
    "\n",
    "# Parse clustering results\n",
    "parsed_groups = parse_aflow_directory_output(result.stdout)\n",
    "clusters = convert_aflow_groups_to_clusters(parsed_groups, structure_mapping)\n",
    "\n",
    "cluster_sizes = [cluster['cluster_size'] for cluster in clusters]\n",
    "print(f\"Structural families: {len(clusters)}\")\n",
    "print(f\"Family sizes: {sorted(cluster_sizes, reverse=True)}\")\n",
    "\n",
    "for i, cluster in enumerate(clusters):\n",
    "    min_eah_idx = np.argmin(cluster['mp_eah_values'])\n",
    "    most_stable = cluster['formulas'][min_eah_idx]\n",
    "    stability = cluster['mp_eah_values'][min_eah_idx]\n",
    "    print(f\"Family {i+1}: {cluster['cluster_size']} structures, representative: {most_stable} (mp_eah = {stability:.4f})\")"
   ]
  },
  {
   "cell_type": "markdown",
   "metadata": {},
   "source": [
    "## Representative Selection and A15 Analysis"
   ]
  },
  {
   "cell_type": "code",
   "execution_count": 13,
   "metadata": {},
   "outputs": [
    {
     "name": "stdout",
     "output_type": "stream",
     "text": [
      "Selected 7 representative structures:\n",
      "  1. IrMo2Os (family size: 1, mp_eah: -0.0189)\n",
      "  2. Mo6OsRu (family size: 9, mp_eah: -0.0294)\n",
      "  3. Mo4NbTc (family size: 1, mp_eah: -0.0175)\n",
      "  4. Ir2Mo3Os (family size: 1, mp_eah: -0.0275)\n",
      "  5. Mo4Nb2Os2 (family size: 1, mp_eah: -0.0099)\n",
      "  6. Mo5ReSiTc (family size: 1, mp_eah: -0.0018)\n",
      "  7. Mo5NbOs2 (family size: 1, mp_eah: -0.0376)\n"
     ]
    }
   ],
   "source": [
    "# Select representative structures (most stable from each family)\n",
    "representatives = []\n",
    "\n",
    "for i, cluster in enumerate(clusters):\n",
    "    min_eah_idx = np.argmin(cluster['mp_eah_values'])\n",
    "    rep = {\n",
    "        'family_id': i + 1,\n",
    "        'original_index': cluster['structure_indices'][min_eah_idx],\n",
    "        'formula': cluster['formulas'][min_eah_idx],\n",
    "        'mp_eah': cluster['mp_eah_values'][min_eah_idx],\n",
    "        'family_size': cluster['cluster_size'],\n",
    "        'space_group': cluster['space_groups'][min_eah_idx]\n",
    "    }\n",
    "    representatives.append(rep)\n",
    "\n",
    "print(f\"Selected {len(representatives)} representative structures:\")\n",
    "for rep in representatives:\n",
    "    print(f\"  {rep['family_id']}. {rep['formula']} (family size: {rep['family_size']}, mp_eah: {rep['mp_eah']:.4f})\")"
   ]
  },
  {
   "cell_type": "code",
   "execution_count": 14,
   "metadata": {},
   "outputs": [
    {
     "name": "stdout",
     "output_type": "stream",
     "text": [
      "A15 prototype: Cr6 Si2\n",
      "1. IrMo2Os -> Not A15-like\n",
      "2. Mo6OsRu -> A15-like ({Element Os: Element Ru})\n",
      "3. Mo4NbTc -> Not A15-like\n",
      "4. Ir2Mo3Os -> Not A15-like\n",
      "5. Mo4Nb2Os2 -> A15-like ({Element Nb: Element Mo})\n",
      "6. Mo5ReSiTc -> A15-like ({Element Si: Element Re, Element Mo: Element Tc})\n",
      "7. Mo5NbOs2 -> A15-like ({Element Nb: Element Mo})\n",
      "\n",
      "A15-like representatives: 4/7\n"
     ]
    }
   ],
   "source": [
    "# A15-like analysis\n",
    "a15_prototype = Structure.from_file(\"../data/Cr3Si.cif\")\n",
    "print(f\"A15 prototype: {a15_prototype.formula}\")\n",
    "\n",
    "def check_a15_like(pmg_structure, a15_prototype):\n",
    "    \"\"\"Check for A15-like structure using element mapping\"\"\"\n",
    "    elements = pmg_structure.elements\n",
    "    n_elements = len(elements)\n",
    "    \n",
    "    mappings = []\n",
    "    if n_elements == 2:\n",
    "        mappings = [{}]\n",
    "    elif n_elements == 3:\n",
    "        element_pairs = list(itertools.combinations(elements, 2))\n",
    "        for pair in element_pairs:\n",
    "            mappings.append({pair[0]: pair[1]})\n",
    "    elif n_elements >= 4:\n",
    "        target_pairs = list(itertools.combinations(elements, 2))\n",
    "        for target_pair in target_pairs:\n",
    "            elements_to_map = [e for e in elements if e not in target_pair]\n",
    "            for i in range(min(8, 2**len(elements_to_map))):\n",
    "                mapping = {}\n",
    "                for j, element in enumerate(elements_to_map):\n",
    "                    if (i >> j) & 1:\n",
    "                        mapping[element] = target_pair[0]\n",
    "                    else:\n",
    "                        mapping[element] = target_pair[1]\n",
    "                if mapping:\n",
    "                    mappings.append(mapping)\n",
    "    \n",
    "    matcher = StructureMatcher(primitive_cell=True, attempt_supercell=True)\n",
    "    for mapping in mappings:\n",
    "        if mapping:\n",
    "            mapped_structure = pmg_structure.replace_species(mapping, in_place=False)\n",
    "        else:\n",
    "            mapped_structure = pmg_structure\n",
    "        \n",
    "        is_match = matcher.fit_anonymous(a15_prototype, mapped_structure)\n",
    "        if is_match:\n",
    "            return True, mapping\n",
    "    \n",
    "    return False, None\n",
    "\n",
    "# Check each representative\n",
    "a15_results = []\n",
    "for rep in representatives:\n",
    "    atoms = df.loc[rep['original_index'], 'structure']\n",
    "    pmg_struct = adaptor.get_structure(atoms)\n",
    "    is_a15_like, mapping = check_a15_like(pmg_struct, a15_prototype)\n",
    "    \n",
    "    a15_results.append({\n",
    "        'family_id': rep['family_id'],\n",
    "        'formula': rep['formula'],\n",
    "        'is_a15_like': is_a15_like,\n",
    "        'mapping': mapping\n",
    "    })\n",
    "    \n",
    "    print(f\"{rep['family_id']}. {rep['formula']}\", end=\" -> \")\n",
    "    if is_a15_like:\n",
    "        mapping_str = str(mapping) if mapping else \"direct\"\n",
    "        print(f\"A15-like ({mapping_str})\")\n",
    "    else:\n",
    "        print(\"Not A15-like\")\n",
    "\n",
    "a15_count = sum(1 for r in a15_results if r['is_a15_like'])\n",
    "print(f\"\\nA15-like representatives: {a15_count}/{len(representatives)}\")"
   ]
  },
  {
   "cell_type": "markdown",
   "metadata": {},
   "source": [
    "## Export Representative Structures"
   ]
  },
  {
   "cell_type": "code",
   "execution_count": 15,
   "metadata": {},
   "outputs": [
    {
     "name": "stdout",
     "output_type": "stream",
     "text": [
      "  1. IrMo2Os_sg25_idx1428.cif\n",
      "  2. Mo6OsRu_sg200_idx88841.cif\n",
      "  3. Mo4NbTc_sg99_idx162167.cif\n",
      "  4. Ir2Mo3Os_sg10_idx2112.cif\n",
      "  5. Mo4Nb2Os2_sg40_idx56825.cif\n",
      "  6. Mo5ReSiTc_sg25_idx57708.cif\n",
      "  7. Mo5NbOs2_sg115_idx64238.cif\n",
      "\n",
      "Exported 7 representative structures to representative_structures\n"
     ]
    }
   ],
   "source": [
    "# Export representative structures as CIF files\n",
    "output_dir = Path(\"./representative_structures\")\n",
    "if output_dir.exists():\n",
    "    shutil.rmtree(output_dir)\n",
    "output_dir.mkdir()\n",
    "\n",
    "for rep in representatives:\n",
    "    # Get standardized structure\n",
    "    atoms = None\n",
    "    for _, row in deduplicated_df.iterrows():\n",
    "        if row['original_index'] == rep['original_index']:\n",
    "            atoms = row['standardized_atoms']\n",
    "            break\n",
    "    \n",
    "    if atoms is not None:\n",
    "        safe_formula = rep['formula'].replace('/', '_')\n",
    "        filename = f\"{safe_formula}_sg{rep['space_group']}_idx{rep['original_index']}.cif\"\n",
    "        filepath = output_dir / filename\n",
    "        \n",
    "        write(str(filepath), atoms, format='cif')\n",
    "        print(f\"  {rep['family_id']}. {filename}\")\n",
    "\n",
    "# Create summary file\n",
    "summary_lines = [\n",
    "    \"Representative Novel Crystal Structures\",\n",
    "    \"=\" * 40,\n",
    "    f\"Total representatives: {len(representatives)}\",\n",
    "    \"All structures are thermodynamically stable and completely novel\",\n",
    "    \"\"\n",
    "]\n",
    "\n",
    "for rep in representatives:\n",
    "    safe_formula = rep['formula'].replace('/', '_')\n",
    "    filename = f\"{safe_formula}_sg{rep['space_group']}_idx{rep['original_index']}.cif\"\n",
    "    summary_lines.extend([\n",
    "        f\"{rep['family_id']}. {rep['formula']}\",\n",
    "        f\"   File: {filename}\",\n",
    "        f\"   Family size: {rep['family_size']} structures\",\n",
    "        f\"   Stability: {rep['mp_eah']:.4f} eV/atom\",\n",
    "        f\"   Space group: {rep['space_group']}\",\n",
    "        \"\"\n",
    "    ])\n",
    "\n",
    "summary_file = output_dir / \"README.txt\"\n",
    "with open(summary_file, 'w') as f:\n",
    "    f.write('\\n'.join(summary_lines))\n",
    "\n",
    "print(f\"\\nExported {len(representatives)} representative structures to {output_dir}\")"
   ]
  },
  {
   "cell_type": "code",
   "execution_count": 16,
   "metadata": {},
   "outputs": [
    {
     "name": "stdout",
     "output_type": "stream",
     "text": [
      "Cleaned up novel_structures_batch\n"
     ]
    }
   ],
   "source": [
    "# Cleanup working directory\n",
    "if batch_dir.exists():\n",
    "    shutil.rmtree(batch_dir)\n",
    "    print(f\"Cleaned up {batch_dir}\")"
   ]
  }
 ],
 "metadata": {
  "kernelspec": {
   "display_name": "Python 3 (ipykernel)",
   "language": "python",
   "name": "python3"
  },
  "language_info": {
   "codemirror_mode": {
    "name": "ipython",
    "version": 3
   },
   "file_extension": ".py",
   "mimetype": "text/x-python",
   "name": "python",
   "nbconvert_exporter": "python",
   "pygments_lexer": "ipython3",
   "version": "3.12.6"
  }
 },
 "nbformat": 4,
 "nbformat_minor": 4
}
